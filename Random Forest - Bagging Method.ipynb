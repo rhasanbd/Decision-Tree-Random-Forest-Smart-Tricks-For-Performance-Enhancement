{
 "cells": [
  {
   "cell_type": "markdown",
   "metadata": {
    "collapsed": true
   },
   "source": [
    "# Random Forest\n",
    "\n",
    "\n",
    "Decision Trees are versatile (can do both regression and classificatiion) algorithms. \n",
    "\n",
    "Using **deep** Decision Trees we can fit complex dataset. However, it suffers from **high variance** (overfitting).\n",
    "\n",
    "One technique to reduce the high variance of Decision Trees is to train a **group of Decision Trees**, each on a different random subset of the training set. \n",
    "\n",
    "To make predictions, we just obtain the predictions of all individual trees. Then, predict the class that gets the most votes. \n",
    "\n",
    "Such an ensemble of Decision Trees is called a **Random Forest**.\n",
    "\n",
    "Despite its simplicity, this is one of the most powerful Machine Learning algorithms available today.\n",
    "\n",
    "\n",
    "## Random Forest vs. SVM & Boosting\n",
    "\n",
    "Support Vector Machines (SVMs) and boosting technique are very powerful for binary classification problems. However, these techniques do not extend naturally to **multi-class problems**.\n",
    "\n",
    "In principle, classification trees and forests work with any number of classes (~20 to ~30).\n",
    "\n",
    "In average, classification forests have shown good generalization, even in problems with **high dimensionality**. \n",
    "\n",
    "\n",
    "## Training Random Forests: Bagging\n",
    "\n",
    "A random decision forest is generally trained via the **bagging** method (or sometimes pasting).\n",
    "\n",
    "Bagging stands for **bootstrap aggregation**.\n",
    "\n",
    "In bootstrapping we use the same training algorithm for every predictor, but to **train them on different random subsets** of the training set. \n",
    "- When sampling is performed with replacement, this method is called bagging. \n",
    "- When sampling is performed without replacement, it is called pasting.\n",
    "\n",
    "\n",
    "<img src=\"https://cse.unl.edu/~hasan/Pics/Bagging.png\" width=700 height=400>\n",
    "\n",
    "\n",
    "## How Do Random Forests Reduce Variance to Improve Generalizability?\n",
    "\n",
    "A key aspect of random forests is the fact that its component trees are all **randomly different from one another**. \n",
    "\n",
    "This leads to **de-correlation between the individual tree predictions** and, in turn, to improved generalization.\n",
    "\n",
    "Forest randomness also helps achieve high robustness with respect to **noisy data**.\n",
    "\n",
    "\n",
    "## Randomization Techniques for Training Random Forests\n",
    "\n",
    "Randomness is injected into the trees during the training phase. \n",
    "\n",
    "Two of the most popular ways of doing so are:\n",
    "     - Random training data set sampling  (e.g., bagging) \n",
    "     - Randomized node optimization (RNO)\n",
    "\n",
    "\n",
    "Unlike bagging, RNO uses use all available training data and controls the randomness by varying the number of parameters for training.\n",
    "\n",
    "\n",
    "## Tasks\n",
    "\n",
    "In this notebook, we perform the following tasks.\n",
    "\n",
    "1. **Explore the bagging method** for training Random Forests. \n",
    "2. Investigate whether dimensionality reduction technique (e.g., PCA) improves the performance of Decision Tree/Random Forest.\n",
    "3. Use Random Forest for feature selection.\n",
    "4. Study a variant of Random Forests that is known as extremely randomized trees or **Extra-Trees**.\n"
   ]
  },
  {
   "cell_type": "markdown",
   "metadata": {},
   "source": [
    "## Dataset: MNIST\n",
    "\n",
    "\n",
    "We will use the MNIST dataset, which is a set of 70,000 small images of digits handwritten by high school students and employees of the US Census Bureau. Each image is labeled with the digit it represents.\n",
    "\n",
    "\n",
    "There are 70,000 images. Each image is 28x28 pixels, and each feature simply represents one pixel’s intensity, from 0 (white) to 255 (black).\n",
    "\n",
    "Thus, each image has 784 features. "
   ]
  },
  {
   "cell_type": "code",
   "execution_count": 1,
   "metadata": {},
   "outputs": [],
   "source": [
    "import time\n",
    "import numpy as np\n",
    "import pandas as pd\n",
    "\n",
    "%matplotlib inline\n",
    "import matplotlib as mpl\n",
    "import matplotlib.pyplot as plt\n",
    "\n",
    "from sklearn.datasets import fetch_openml\n",
    "from sklearn.tree import DecisionTreeClassifier\n",
    "from sklearn.ensemble import RandomForestClassifier, ExtraTreesClassifier\n",
    "\n",
    "from sklearn.metrics import accuracy_score, confusion_matrix, precision_score, recall_score, f1_score, classification_report\n",
    "from sklearn.model_selection import train_test_split\n",
    "from sklearn.decomposition import PCA"
   ]
  },
  {
   "cell_type": "markdown",
   "metadata": {},
   "source": [
    "## Load Data and Create Data Matrix (X) and the Label Vector (y)"
   ]
  },
  {
   "cell_type": "code",
   "execution_count": 2,
   "metadata": {},
   "outputs": [
    {
     "name": "stdout",
     "output_type": "stream",
     "text": [
      "(70000, 784)\n",
      "(70000,)\n"
     ]
    }
   ],
   "source": [
    "# Load data using Scikit-Learn\n",
    "mnist = fetch_openml('mnist_784', cache=False)\n",
    "\n",
    "X = mnist[\"data\"].astype('float64')\n",
    "y = mnist[\"target\"].astype('int64')\n",
    "\n",
    "print(X.shape)\n",
    "print(y.shape)"
   ]
  },
  {
   "cell_type": "markdown",
   "metadata": {},
   "source": [
    "## Split Data Into Training and Test Subsets"
   ]
  },
  {
   "cell_type": "code",
   "execution_count": 3,
   "metadata": {},
   "outputs": [],
   "source": [
    "X_train, X_test, y_train, y_test = train_test_split(X, y, test_size=0.2, random_state=0)"
   ]
  },
  {
   "cell_type": "markdown",
   "metadata": {},
   "source": [
    "## Task 1: Explore the Bagging Method for Growing (Training) Random Forests\n",
    "\n",
    "\n",
    "\n",
    "To reduce the variance of a Decision Tree we grow a Random Forest.\n",
    "\n",
    "The Random Forest algorithm introduces extra randomness when growing trees.\n",
    "\n",
    "Instead of searching for the very best feature when splitting a node, it searches for the best feature among a **random subset of features**. This results in a greater tree diversity, which trades a higher bias for a lower variance, generally yielding an overall better model. \n",
    "\n",
    "\n",
    "A Random Forest is an **ensemble of Decision Trees**. It is generally trained via the bagging method (or sometimes pasting). \n",
    "\n",
    "Instead of building a BaggingClassifier and passing it a DecisionTreeClassifier, we can instead use the **RandomForestClassifier class**, which is more convenient and optimized for Decision Trees (similarly, there is a RandomForestRegressor class for regression tasks). "
   ]
  },
  {
   "cell_type": "markdown",
   "metadata": {},
   "source": [
    "## Random Forest: Key Hyperparameters\n",
    "\n",
    "\n",
    "We will use the following hyperparameters of the RandomForestClassifier class. \n",
    "\n",
    "For a full list of the hyperparameters visit: https://scikit-learn.org/stable/modules/generated/sklearn.ensemble.RandomForestClassifier.html#sklearn.ensemble.RandomForestClassifier\n",
    "\n",
    "\n",
    "- n_estimators : The number of trees in the forest. Default=10\n",
    "\n",
    "\n",
    "- criterion : The function to measure the quality of a split. Supported criteria are “gini” for the Gini impurity and “entropy” for the information gain. Note: this parameter is tree-specific. Default=”gini”\n",
    "\n",
    "\n",
    "- max_depth : The maximum depth of the tree. If None, then nodes are expanded until all leaves are pure or until all leaves contain less than min_samples_split samples. Default=None\n",
    "\n",
    "\n",
    "- min_samples_split : The minimum number of samples required to split an internal node: Default=2\n",
    "\n",
    "        -- If int, then consider min_samples_split as the minimum number.\n",
    "        -- If float, then min_samples_split is a fraction and ceil(min_samples_split * n_samples) are the minimum number of samples for each split.\n",
    "        \n",
    "        \n",
    "        \n",
    "- min_samples_leaf : The minimum number of samples required to be at a leaf node. A split point at any depth will only be considered if it leaves at least min_samples_leaf training samples in each of the left and right branches. This may have the effect of smoothing the model, especially in regression. Default=1\n",
    "\n",
    "\n",
    "         -- If int, then consider min_samples_leaf as the minimum number.\n",
    "         -- If float, then min_samples_leaf is a fraction and ceil(min_samples_leaf * n_samples) are the minimum number of samples for each node.\n",
    "\n",
    "\n",
    "- max_features : The number of features to consider when looking for the best split. Default=\"auto\".\n",
    "\n",
    "        -- If int, then consider max_features features at each split.\n",
    "        -- If float, then max_features is a fraction and int(max_features * n_features) features are considered at each split.\n",
    "        -- If “auto”, then max_features=sqrt(n_features).\n",
    "        -- If “sqrt”, then max_features=sqrt(n_features) (same as “auto”).\n",
    "        -- If “log2”, then max_features=log2(n_features).\n",
    "        -- If None, then max_features=n_features.\n",
    "\n",
    "\n",
    "- max_leaf_nodes : Grow trees with max_leaf_nodes in best-first fashion. Best nodes are defined as relative reduction in impurity. If None then unlimited number of leaf nodes. Default=None\n",
    "\n",
    "\n",
    "- class_weight : Weights associated with classes in the form {class_label: weight}. If not given, all classes are supposed to have weight one. For multi-output problems, a list of dicts can be provided in the same order as the columns of y. Default=None\n",
    "\n",
    "         -- The “balanced” mode uses the values of y to automatically adjust weights inversely proportional to class frequencies in the input data as n_samples / (n_classes * np.bincount(y))\n",
    "\n",
    "\n",
    "\n",
    "- oob_score : Whether to use out-of-bag samples to estimate the generalization accuracy. Default=False\n",
    "\n",
    "        -- When using a subset of the available samples the generalization accuracy can be estimated with the out-of-bag samples by setting oob_score=True. Then, we can get the score of the training dataset obtained using an out-of-bag estimate (use the $oob\\_score\\_$ attribute)\n",
    "        \n",
    "        \n",
    "- bootstrap : Whether bootstrap samples are used when building trees. If False, the whole dataset is used to build each tree. Default=True\n",
    " \n",
    "\n",
    "- verbose : Controls the verbosity when fitting and predicting. Default=0\n"
   ]
  },
  {
   "cell_type": "code",
   "execution_count": 4,
   "metadata": {},
   "outputs": [
    {
     "name": "stderr",
     "output_type": "stream",
     "text": [
      "[Parallel(n_jobs=-1)]: Using backend ThreadingBackend with 8 concurrent workers.\n",
      "[Parallel(n_jobs=-1)]: Done  34 tasks      | elapsed:    3.9s\n",
      "[Parallel(n_jobs=-1)]: Done 184 tasks      | elapsed:   17.9s\n",
      "[Parallel(n_jobs=-1)]: Done 434 tasks      | elapsed:   43.6s\n",
      "[Parallel(n_jobs=-1)]: Done 784 tasks      | elapsed:  1.4min\n",
      "[Parallel(n_jobs=-1)]: Done 1000 out of 1000 | elapsed:  1.8min finished\n"
     ]
    },
    {
     "name": "stdout",
     "output_type": "stream",
     "text": [
      "Random Forest Training took 142.62s\n"
     ]
    },
    {
     "name": "stderr",
     "output_type": "stream",
     "text": [
      "[Parallel(n_jobs=8)]: Using backend ThreadingBackend with 8 concurrent workers.\n",
      "[Parallel(n_jobs=8)]: Done  34 tasks      | elapsed:    0.0s\n",
      "[Parallel(n_jobs=8)]: Done 184 tasks      | elapsed:    0.2s\n",
      "[Parallel(n_jobs=8)]: Done 434 tasks      | elapsed:    0.5s\n",
      "[Parallel(n_jobs=8)]: Done 784 tasks      | elapsed:    1.0s\n"
     ]
    },
    {
     "name": "stdout",
     "output_type": "stream",
     "text": [
      "\n",
      "Test Accuracy:  0.9694285714285714\n",
      "\n",
      "Test Confusion Matrix:\n",
      "[[1369    0    1    0    2    2    6    0    7    0]\n",
      " [   0 1560    5    5    3    0    2    2    2    1]\n",
      " [   2    2 1406    7    4    1    5    8    7    1]\n",
      " [   1    1   21 1364    0   14    0   11   20    3]\n",
      " [   1    0    1    0 1315    0    6    4    2   21]\n",
      " [   1    2    3   10    2 1187   12    1    9    4]\n",
      " [   7    2    1    0    3    7 1362    0    5    0]\n",
      " [   3    6   18    0   10    0    0 1400    4   17]\n",
      " [   0    9    5    5    5    4    3    0 1318   19]\n",
      " [   4    1    4   21   11    4    2   15    8 1291]]\n",
      "\n",
      "Classification Report:\n",
      "              precision    recall  f1-score   support\n",
      "\n",
      "           0       0.99      0.99      0.99      1387\n",
      "           1       0.99      0.99      0.99      1580\n",
      "           2       0.96      0.97      0.97      1443\n",
      "           3       0.97      0.95      0.96      1435\n",
      "           4       0.97      0.97      0.97      1350\n",
      "           5       0.97      0.96      0.97      1231\n",
      "           6       0.97      0.98      0.98      1387\n",
      "           7       0.97      0.96      0.97      1458\n",
      "           8       0.95      0.96      0.96      1368\n",
      "           9       0.95      0.95      0.95      1361\n",
      "\n",
      "    accuracy                           0.97     14000\n",
      "   macro avg       0.97      0.97      0.97     14000\n",
      "weighted avg       0.97      0.97      0.97     14000\n",
      "\n",
      "\n",
      "Score of the training dataset obtained using an out-of-bag estimate:  0.97125\n",
      "\n",
      "\n",
      "CPU times: user 12min 56s, sys: 15.3 s, total: 13min 11s\n",
      "Wall time: 2min 23s\n"
     ]
    },
    {
     "name": "stderr",
     "output_type": "stream",
     "text": [
      "[Parallel(n_jobs=8)]: Done 1000 out of 1000 | elapsed:    1.2s finished\n"
     ]
    }
   ],
   "source": [
    "%%time\n",
    "\n",
    "t0 = time.time()\n",
    "forest_clf = RandomForestClassifier(n_estimators=1000, criterion=\"gini\", max_features=\"auto\", \n",
    "                                    max_depth=32, class_weight=\"balanced\", oob_score=True, verbose=1, n_jobs=-1)\n",
    "\n",
    "forest_clf.fit(X_train, y_train)\n",
    "t1 = time.time()\n",
    "\n",
    "training_forest_clf = t1 - t0\n",
    "\n",
    "print(\"Random Forest Training took {:.2f}s\".format(training_forest_clf))\n",
    "\n",
    "y_test_predicted = forest_clf.predict(X_test)\n",
    "accuracy_forest_clf = accuracy_score(y_test, y_test_predicted)\n",
    "print(\"\\nTest Accuracy: \", accuracy_forest_clf)\n",
    "\n",
    "print(\"\\nTest Confusion Matrix:\")\n",
    "print(confusion_matrix(y_test, y_test_predicted))\n",
    "\n",
    "print(\"\\nClassification Report:\")\n",
    "print(classification_report(y_test, y_test_predicted))\n",
    "\n",
    "print(\"\\nScore of the training dataset obtained using an out-of-bag estimate: \", forest_clf.oob_score_)\n",
    "print(\"\\n\")"
   ]
  },
  {
   "cell_type": "markdown",
   "metadata": {},
   "source": [
    "## Task 2: Investigate Whether Dimensionality Reduction Technique (e.g., PCA) Improves the Performance of Decision Tree/Random Forest\n",
    "\n",
    "We know that it is useful to **find disciminative features** for growing a Decision Tree. For this we have performing feature selection.\n",
    "\n",
    "Now we would like to see whether we can extract features to grow a Decision Tree.\n",
    "\n",
    "We use dimensionality reduction to extract features.\n",
    "\n",
    "We apply the Principle Component Analysis (PCA) dimensionality reduction technique to project the MNIST dataset (784 features) to a lower dimensional space by retaining maximum variance (95%).\n",
    "\n",
    "The PCA **extracts 154 features** which we use to train a Random Forest classifier.\n",
    "\n",
    "Our goal is to see whether the extracted features improve the performance of the Random Forest."
   ]
  },
  {
   "cell_type": "code",
   "execution_count": 5,
   "metadata": {},
   "outputs": [
    {
     "name": "stdout",
     "output_type": "stream",
     "text": [
      "Number of Principle Components (Extracted Features):  154\n"
     ]
    }
   ],
   "source": [
    "pca = PCA(n_components=0.95)\n",
    "pca.fit(X_train)\n",
    "\n",
    "X_train_pca = pca.transform(X_train)\n",
    "X_test_pca = pca.transform(X_test)\n",
    "\n",
    "print(\"Number of Principle Components (Extracted Features): \", pca.n_components_)  "
   ]
  },
  {
   "cell_type": "code",
   "execution_count": 6,
   "metadata": {},
   "outputs": [
    {
     "name": "stderr",
     "output_type": "stream",
     "text": [
      "[Parallel(n_jobs=-1)]: Using backend ThreadingBackend with 8 concurrent workers.\n",
      "[Parallel(n_jobs=-1)]: Done  34 tasks      | elapsed:    7.8s\n",
      "[Parallel(n_jobs=-1)]: Done 184 tasks      | elapsed:   40.0s\n",
      "[Parallel(n_jobs=-1)]: Done 434 tasks      | elapsed:  1.6min\n",
      "[Parallel(n_jobs=-1)]: Done 784 tasks      | elapsed:  2.8min\n",
      "[Parallel(n_jobs=-1)]: Done 1000 out of 1000 | elapsed:  3.7min finished\n",
      "[Parallel(n_jobs=8)]: Using backend ThreadingBackend with 8 concurrent workers.\n",
      "[Parallel(n_jobs=8)]: Done  34 tasks      | elapsed:    0.0s\n",
      "[Parallel(n_jobs=8)]: Done 184 tasks      | elapsed:    0.2s\n",
      "[Parallel(n_jobs=8)]: Done 434 tasks      | elapsed:    0.4s\n",
      "[Parallel(n_jobs=8)]: Done 784 tasks      | elapsed:    0.8s\n"
     ]
    },
    {
     "name": "stdout",
     "output_type": "stream",
     "text": [
      "Test Accuracy (PCA):  0.9497142857142857\n",
      "\n",
      "Test Confusion Matrix (PCA):\n",
      "[[1358    0    4    2    4    3   10    2    4    0]\n",
      " [   0 1553   10    5    2    0    4    2    4    0]\n",
      " [   6    3 1361   14   13    2    4    7   30    3]\n",
      " [   4    0   21 1326    1   23    4   17   30    9]\n",
      " [   1    1    6    1 1298    0    8    2    6   27]\n",
      " [   4    2    6   26    9 1157   12    3    4    8]\n",
      " [   9    1    5    1    7   14 1348    0    2    0]\n",
      " [   2    5   21    1   15    1    0 1384   10   19]\n",
      " [   1   10   12   31    8   23    4    1 1261   17]\n",
      " [   7    1    5   23   35    8    2   24    6 1250]]\n",
      "\n",
      "Classification Report (PCA):\n",
      "              precision    recall  f1-score   support\n",
      "\n",
      "           0       0.98      0.98      0.98      1387\n",
      "           1       0.99      0.98      0.98      1580\n",
      "           2       0.94      0.94      0.94      1443\n",
      "           3       0.93      0.92      0.93      1435\n",
      "           4       0.93      0.96      0.95      1350\n",
      "           5       0.94      0.94      0.94      1231\n",
      "           6       0.97      0.97      0.97      1387\n",
      "           7       0.96      0.95      0.95      1458\n",
      "           8       0.93      0.92      0.93      1368\n",
      "           9       0.94      0.92      0.93      1361\n",
      "\n",
      "    accuracy                           0.95     14000\n",
      "   macro avg       0.95      0.95      0.95     14000\n",
      "weighted avg       0.95      0.95      0.95     14000\n",
      "\n",
      "\n",
      "Score of the training dataset obtained using an out-of-bag estimate (PCA):  0.97125\n",
      "\n",
      "\n",
      "CPU times: user 25min 40s, sys: 11 s, total: 25min 51s\n",
      "Wall time: 3min 59s\n"
     ]
    },
    {
     "name": "stderr",
     "output_type": "stream",
     "text": [
      "[Parallel(n_jobs=8)]: Done 1000 out of 1000 | elapsed:    1.0s finished\n"
     ]
    }
   ],
   "source": [
    "%%time\n",
    "\n",
    "forest_clf_pca = RandomForestClassifier(n_estimators=1000, criterion=\"gini\", max_features=\"auto\", \n",
    "                                    max_depth=32, class_weight=\"balanced\", oob_score=True, verbose=1, n_jobs=-1)\n",
    "\n",
    "forest_clf_pca.fit(X_train_pca, y_train)\n",
    "\n",
    "y_test_predicted = forest_clf_pca.predict(X_test_pca)\n",
    "print(\"Test Accuracy (PCA): \", accuracy_score(y_test, y_test_predicted))\n",
    "\n",
    "print(\"\\nTest Confusion Matrix (PCA):\")\n",
    "print(confusion_matrix(y_test, y_test_predicted))\n",
    "\n",
    "print(\"\\nClassification Report (PCA):\")\n",
    "print(classification_report(y_test, y_test_predicted))\n",
    "\n",
    "print(\"\\nScore of the training dataset obtained using an out-of-bag estimate (PCA): \", forest_clf.oob_score_)\n",
    "print(\"\\n\")"
   ]
  },
  {
   "cell_type": "markdown",
   "metadata": {},
   "source": [
    "## Observation: Dimensionality Reduction with Random Forest\n",
    "\n",
    "We observe that PCA **lowers the performance** of a Random Forest classifier. This is due to the fact that extracted features (original features projected into a lower dimension) don't meaningfully combine to produce effective desion rules.\n",
    "\n",
    "Machine Learning algorithms that create decision rules by composing knowledge (e.g., decision tree uses a combination of the features to contruct a decision rule) don't benefit from dimensionality reduction. \n",
    "\n",
    "Thus, **we shouldn't use PCA with Decision Tree or Random Forest**."
   ]
  },
  {
   "cell_type": "markdown",
   "metadata": {},
   "source": [
    "## Task 3: Use Random Forest for Feature Selection\n",
    "\n",
    "Random Forest can be used for feature selection by using **feature importance**.\n",
    "\n",
    "**Feature Selection** is a very useful Machine Learning technique that we often use. Random Forests are very handy to get a quick understanding of what features actually matter. This helps to perform feature selection.\n",
    "\n",
    "Random Forests enable us to perform feature selection by finding the **relative importance of each feature**. \n",
    "\n",
    "A Random Forest measures a feature’s importance by looking at how much the tree nodes that use that feature reduce impurity on average (across all trees in the forest). \n",
    "\n",
    "More precisely, it is a **weighted average**, where each node’s weight is equal to the number of training samples that are associated with it.\n",
    "\n",
    "Scikit-Learn computes this score automatically for each feature after training, then it scales the results so that the sum of all importances is equal to 1. \n",
    "\n",
    "We can access the result using the $feature\\_importances\\_$ variable. \n",
    "\n",
    "Following example shows the plot of each pixel's importance in the MNIST dataset after trained by a Random Forest Classifier."
   ]
  },
  {
   "cell_type": "code",
   "execution_count": 7,
   "metadata": {},
   "outputs": [
    {
     "data": {
      "image/png": "[encoded data removed]",
      "text/plain": [
       "<Figure size 864x432 with 2 Axes>"
      ]
     },
     "metadata": {
      "needs_background": "light"
     },
     "output_type": "display_data"
    }
   ],
   "source": [
    "# Pixel importances on 28*28 image\n",
    "importances = forest_clf.feature_importances_\n",
    "image = importances.reshape(28, 28)\n",
    "\n",
    "# Plot pixel importances\n",
    "plt.figure(figsize=(12, 6))\n",
    "plt.title(\"MNIST Pixel Importance\")\n",
    "\n",
    "plt.imshow(image, cmap=mpl.cm.hot,interpolation=\"nearest\")\n",
    "cbar = plt.colorbar(ticks=[forest_clf.feature_importances_.min(), forest_clf.feature_importances_.max()])\n",
    "cbar.ax.set_yticklabels(['Not important', 'Very important'])\n",
    "plt.axis(\"off\")\n",
    "\n",
    "plt.show()"
   ]
  },
  {
   "cell_type": "markdown",
   "metadata": {},
   "source": [
    "## Task 4: Study a Variant of Random Forest - Extremely Randomized Trees or Extra-Trees\n",
    "\n",
    "Random Forests are used to reduce the variance of Decision Trees. \n",
    "\n",
    "Interestingly, we can **reduce the variance** of the Random Forests by growing **extremely randomized trees**. In Scikit-Learn it is implemented by the ExtraTreesClassifier and ExtraTreesRegressor classes.\n",
    "\n",
    "These Extra-Trees take randomness one step further by using **random thresholds** for each feature rather than searching for the best possible thresholds (like regular Decision Trees do).\n",
    "\n",
    "Thus, Extra-Trees trade **more bias for a lower variance**.\n",
    "\n",
    "Extra-Trees are much faster to train than regular Random Forests since finding the best possible threshold for each feature at every node is one of the most time-consuming tasks of growing a tree.\n",
    "\n",
    "Scikit-Learn’s ExtraTreesClassifier API is identical to the RandomForestClassifier class. Similarly, the Extra TreesRegressor class has the same API as the RandomForestRegressor class.\n",
    "\n",
    "### Note:\n",
    "By deault the ExtraTreesClassifier \"bootstrap\" hyperparameter is set to False. As a consequence, the whole dataset is used to build each tree. To using the bagging method, we need to explicity set it to True.\n",
    "\n",
    "\n",
    "### RandomForestClassifier vs. ExtraTreesClassifier\n",
    "\n",
    "It is hard to tell in advance whether a RandomForestClassifier will perform better or worse than an ExtraTreesClassifier. \n",
    "\n",
    "Generally, the only way to know is to try both and compare them using cross-validation (and tuning the hyperparameters using grid search)."
   ]
  },
  {
   "cell_type": "code",
   "execution_count": 8,
   "metadata": {},
   "outputs": [
    {
     "name": "stderr",
     "output_type": "stream",
     "text": [
      "[Parallel(n_jobs=-1)]: Using backend ThreadingBackend with 8 concurrent workers.\n",
      "[Parallel(n_jobs=-1)]: Done  34 tasks      | elapsed:    2.9s\n",
      "[Parallel(n_jobs=-1)]: Done 184 tasks      | elapsed:   13.1s\n",
      "[Parallel(n_jobs=-1)]: Done 434 tasks      | elapsed:   30.6s\n",
      "[Parallel(n_jobs=-1)]: Done 784 tasks      | elapsed:   53.1s\n",
      "[Parallel(n_jobs=-1)]: Done 1000 out of 1000 | elapsed:  1.1min finished\n"
     ]
    },
    {
     "name": "stdout",
     "output_type": "stream",
     "text": [
      "Extra Tree Training took 103.34s\n"
     ]
    },
    {
     "name": "stderr",
     "output_type": "stream",
     "text": [
      "[Parallel(n_jobs=8)]: Using backend ThreadingBackend with 8 concurrent workers.\n",
      "[Parallel(n_jobs=8)]: Done  34 tasks      | elapsed:    0.0s\n",
      "[Parallel(n_jobs=8)]: Done 184 tasks      | elapsed:    0.2s\n",
      "[Parallel(n_jobs=8)]: Done 434 tasks      | elapsed:    0.6s\n",
      "[Parallel(n_jobs=8)]: Done 784 tasks      | elapsed:    1.0s\n"
     ]
    },
    {
     "name": "stdout",
     "output_type": "stream",
     "text": [
      "\n",
      "Test Accuracy:  0.9674285714285714\n",
      "\n",
      "Test Confusion Matrix:\n",
      "[[1367    0    1    0    2    3    7    0    7    0]\n",
      " [   0 1562    6    4    3    0    1    1    2    1]\n",
      " [   3    3 1399    7    3    1    5    9   12    1]\n",
      " [   2    1   19 1359    0   17    2   11   18    6]\n",
      " [   2    0    0    0 1313    0    5    4    1   25]\n",
      " [   1    2    4   10    2 1187   10    1    9    5]\n",
      " [   9    2    1    0    4    7 1361    0    3    0]\n",
      " [   4    7   21    0    6    0    0 1390    4   26]\n",
      " [   0    9    5    8    5    6    2    0 1314   19]\n",
      " [   4    2    4   19   11    6    2   14    7 1292]]\n",
      "\n",
      "Classification Report:\n",
      "              precision    recall  f1-score   support\n",
      "\n",
      "           0       0.98      0.99      0.98      1387\n",
      "           1       0.98      0.99      0.99      1580\n",
      "           2       0.96      0.97      0.96      1443\n",
      "           3       0.97      0.95      0.96      1435\n",
      "           4       0.97      0.97      0.97      1350\n",
      "           5       0.97      0.96      0.97      1231\n",
      "           6       0.98      0.98      0.98      1387\n",
      "           7       0.97      0.95      0.96      1458\n",
      "           8       0.95      0.96      0.96      1368\n",
      "           9       0.94      0.95      0.94      1361\n",
      "\n",
      "    accuracy                           0.97     14000\n",
      "   macro avg       0.97      0.97      0.97     14000\n",
      "weighted avg       0.97      0.97      0.97     14000\n",
      "\n",
      "\n",
      "Score of the training dataset obtained using an out-of-bag estimate:  0.9700714285714286\n",
      "\n",
      "\n",
      "CPU times: user 8min 28s, sys: 15.6 s, total: 8min 43s\n",
      "Wall time: 1min 44s\n"
     ]
    },
    {
     "name": "stderr",
     "output_type": "stream",
     "text": [
      "[Parallel(n_jobs=8)]: Done 1000 out of 1000 | elapsed:    1.2s finished\n"
     ]
    }
   ],
   "source": [
    "%%time\n",
    "\n",
    "t0 = time.time()\n",
    "extra_trees_clf = ExtraTreesClassifier(n_estimators=1000, criterion=\"gini\", max_features=\"auto\", \n",
    "                                       max_depth=32, class_weight=\"balanced\", oob_score=True, \n",
    "                                       bootstrap=True, verbose=1, n_jobs=-1)\n",
    "extra_trees_clf.fit(X_train, y_train)\n",
    "t1 = time.time()\n",
    "\n",
    "training_extra_tree = t1 - t0\n",
    "\n",
    "print(\"Extra Tree Training took {:.2f}s\".format(training_extra_tree))\n",
    "\n",
    "\n",
    "y_test_predicted = extra_trees_clf.predict(X_test)\n",
    "accuracy_extra_trees = accuracy_score(y_test, y_test_predicted)\n",
    "print(\"\\nTest Accuracy: \", accuracy_extra_trees)\n",
    "\n",
    "print(\"\\nTest Confusion Matrix:\")\n",
    "print(confusion_matrix(y_test, y_test_predicted))\n",
    "\n",
    "print(\"\\nClassification Report:\")\n",
    "print(classification_report(y_test, y_test_predicted))\n",
    "\n",
    "print(\"\\nScore of the training dataset obtained using an out-of-bag estimate: \", extra_trees_clf.oob_score_)\n",
    "print(\"\\n\")"
   ]
  },
  {
   "cell_type": "markdown",
   "metadata": {},
   "source": [
    "# Summary of Results "
   ]
  },
  {
   "cell_type": "code",
   "execution_count": 9,
   "metadata": {},
   "outputs": [
    {
     "data": {
      "text/html": [
       "<div>\n",
       "<style scoped>\n",
       "    .dataframe tbody tr th:only-of-type {\n",
       "        vertical-align: middle;\n",
       "    }\n",
       "\n",
       "    .dataframe tbody tr th {\n",
       "        vertical-align: top;\n",
       "    }\n",
       "\n",
       "    .dataframe thead th {\n",
       "        text-align: right;\n",
       "    }\n",
       "</style>\n",
       "<table border=\"1\" class=\"dataframe\">\n",
       "  <thead>\n",
       "    <tr style=\"text-align: right;\">\n",
       "      <th></th>\n",
       "      <th>Classifier</th>\n",
       "      <th>Accuracy</th>\n",
       "      <th>Running-Time</th>\n",
       "    </tr>\n",
       "  </thead>\n",
       "  <tbody>\n",
       "    <tr>\n",
       "      <th>0</th>\n",
       "      <td>Random Forest (1000 trees)</td>\n",
       "      <td>0.969429</td>\n",
       "      <td>142.620684</td>\n",
       "    </tr>\n",
       "    <tr>\n",
       "      <th>1</th>\n",
       "      <td>Extra-Trees (1000 trees)</td>\n",
       "      <td>0.967429</td>\n",
       "      <td>103.340217</td>\n",
       "    </tr>\n",
       "  </tbody>\n",
       "</table>\n",
       "</div>"
      ],
      "text/plain": [
       "                   Classifier  Accuracy  Running-Time\n",
       "0  Random Forest (1000 trees)  0.969429    142.620684\n",
       "1    Extra-Trees (1000 trees)  0.967429    103.340217"
      ]
     },
     "execution_count": 9,
     "metadata": {},
     "output_type": "execute_result"
    }
   ],
   "source": [
    "data = [[\"Random Forest (1000 trees)\", accuracy_forest_clf, training_forest_clf], \n",
    "        [\"Extra-Trees (1000 trees)\", accuracy_extra_trees, training_extra_tree]]\n",
    "\n",
    "pd.DataFrame(data, columns=[\"Classifier\", \"Accuracy\", \"Running-Time\"])"
   ]
  },
  {
   "cell_type": "markdown",
   "metadata": {},
   "source": [
    "## Comparative Understanding\n",
    "\n",
    "Based on the performance results we see that Extra-Trees and Random Forests are comparable. \n",
    "\n",
    "- Extra-Trees are **faster at the cost of slightly higher bias** (i.e., slightly smaller test accuracy). The speed in training comes from using random threshold then searching for an optimal threshold.\n",
    "- The performance difference is insignificant.\n",
    "\n",
    "To get a better comparative understanding we should tune the hyperparameters for these two models."
   ]
  }
 ],
 "metadata": {
  "anaconda-cloud": {},
  "kernelspec": {
   "display_name": "Python 3",
   "language": "python",
   "name": "python3"
  },
  "language_info": {
   "codemirror_mode": {
    "name": "ipython",
    "version": 3
   },
   "file_extension": ".py",
   "mimetype": "text/x-python",
   "name": "python",
   "nbconvert_exporter": "python",
   "pygments_lexer": "ipython3",
   "version": "3.7.3"
  }
 },
 "nbformat": 4,
 "nbformat_minor": 1
}
